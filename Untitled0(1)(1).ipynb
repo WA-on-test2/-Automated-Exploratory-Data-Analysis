{
 "cells": [
  {
   "cell_type": "markdown",
   "metadata": {
    "id": "xvZeevjVS5G_"
   },
   "source": [
    "# **BRIEF:**\n",
    "# **THIS IS A GENERIC CODE THAT DOES THE FOLLOWING TO ANY DATASET ENTERED BY USER I USED THE DATASET (us-international-air-traffic-data) TO SHOW THE FUNCTIONALITY IN THIS CODE BUT YOU CAN CHANGE IT TO ANY DATASET**\n",
    "\n",
    "1- TO READ A DATASET WITH DIFFERENT EXTENSIONS(.CVS/.XLSX)\n",
    "\n",
    "2- TO PRINT OUT THE DF\n",
    "\n",
    "3- SHOWS INFORMATION ABOUT EACH COLUMNS EX:DATATYPE, NO OF ITEMS\n",
    "\n",
    "4- SEE WHETHER WE AHVE NULL VALUES IN OUR DF OR NOT AND COUNT NULL VALUES IF THEY EXIST\n",
    "\n",
    "5- **VISUALIZE THE PERCENTAGE OF NULL VALUES AT EACH COLUMN**\n",
    "\n",
    "6- YOU CAN CHOOSE TO DROP THE NULL VALUES OR NOT\n",
    "\n",
    "7- **YOU CAN CHOOSE TO DROP A CERTAIN COLUMN FROM THE DATAFRAME**\n",
    "\n",
    "8- **COLUMN'S DATA VISUALIZATION THROUGH PIE CHART-BAR CHART-HISTOGRAMS( CUMULATIVE AND NON CUMULATIVE)**\n"
   ]
  },
  {
   "cell_type": "markdown",
   "metadata": {
    "id": "ywmm3xObRXw3"
   },
   "source": [
    "**READ DATASET(CSV FORMATE OR XLSX FORMATE)\n",
    "and show some characteristics of dataset**\n"
   ]
  },
  {
   "cell_type": "code",
   "execution_count": 111,
   "metadata": {
    "id": "yP0E336348O5"
   },
   "outputs": [],
   "source": [
    "import numpy as np\n",
    "import pandas as pd\n",
    "import matplotlib.pyplot as plt"
   ]
  },
  {
   "cell_type": "code",
   "execution_count": 112,
   "metadata": {
    "colab": {
     "base_uri": "https://localhost:8080/"
    },
    "id": "3dJTnO6M8fUg",
    "outputId": "809b50df-7d65-430d-c781-3d968b720336"
   },
   "outputs": [
    {
     "name": "stdout",
     "output_type": "stream",
     "text": [
      "input Dataset either with extension csv or xlsxInternational_Report_Passengers.csv\n"
     ]
    }
   ],
   "source": [
    "x=input(\"input Dataset either with extension csv or xlsx\")\n",
    "if x.endswith('.csv'):\n",
    "  df=pd.read_csv(x)\n",
    "elif x.endswith('.xlsx'):df=pd.read_excel(x)\n"
   ]
  },
  {
   "cell_type": "code",
   "execution_count": 113,
   "metadata": {
    "colab": {
     "base_uri": "https://localhost:8080/",
     "height": 444
    },
    "id": "jG01EWno13tN",
    "outputId": "71c86ca4-d2ab-421f-e31b-bff2f00fcc74"
   },
   "outputs": [
    {
     "data": {
      "text/html": [
       "\n",
       "  <div id=\"df-99413270-1b70-44b2-ace4-f42262329e24\" class=\"colab-df-container\">\n",
       "    <div>\n",
       "<style scoped>\n",
       "    .dataframe tbody tr th:only-of-type {\n",
       "        vertical-align: middle;\n",
       "    }\n",
       "\n",
       "    .dataframe tbody tr th {\n",
       "        vertical-align: top;\n",
       "    }\n",
       "\n",
       "    .dataframe thead th {\n",
       "        text-align: right;\n",
       "    }\n",
       "</style>\n",
       "<table border=\"1\" class=\"dataframe\">\n",
       "  <thead>\n",
       "    <tr style=\"text-align: right;\">\n",
       "      <th></th>\n",
       "      <th>data_dte</th>\n",
       "      <th>Year</th>\n",
       "      <th>Month</th>\n",
       "      <th>usg_apt_id</th>\n",
       "      <th>usg_apt</th>\n",
       "      <th>usg_wac</th>\n",
       "      <th>fg_apt_id</th>\n",
       "      <th>fg_apt</th>\n",
       "      <th>fg_wac</th>\n",
       "      <th>airlineid</th>\n",
       "      <th>carrier</th>\n",
       "      <th>carriergroup</th>\n",
       "      <th>type</th>\n",
       "      <th>Scheduled</th>\n",
       "      <th>Charter</th>\n",
       "      <th>Total</th>\n",
       "    </tr>\n",
       "  </thead>\n",
       "  <tbody>\n",
       "    <tr>\n",
       "      <th>0</th>\n",
       "      <td>5/1/2014</td>\n",
       "      <td>2014</td>\n",
       "      <td>5</td>\n",
       "      <td>14492</td>\n",
       "      <td>RDU</td>\n",
       "      <td>36.0</td>\n",
       "      <td>11032.0</td>\n",
       "      <td>CUN</td>\n",
       "      <td>148.0</td>\n",
       "      <td>19534.0</td>\n",
       "      <td>AM</td>\n",
       "      <td>0.0</td>\n",
       "      <td>Passengers</td>\n",
       "      <td>0.0</td>\n",
       "      <td>315.0</td>\n",
       "      <td>315.0</td>\n",
       "    </tr>\n",
       "    <tr>\n",
       "      <th>1</th>\n",
       "      <td>6/1/2007</td>\n",
       "      <td>2007</td>\n",
       "      <td>6</td>\n",
       "      <td>13204</td>\n",
       "      <td>MCO</td>\n",
       "      <td>33.0</td>\n",
       "      <td>16085.0</td>\n",
       "      <td>YHZ</td>\n",
       "      <td>951.0</td>\n",
       "      <td>20364.0</td>\n",
       "      <td>C6</td>\n",
       "      <td>0.0</td>\n",
       "      <td>Passengers</td>\n",
       "      <td>0.0</td>\n",
       "      <td>683.0</td>\n",
       "      <td>683.0</td>\n",
       "    </tr>\n",
       "    <tr>\n",
       "      <th>2</th>\n",
       "      <td>12/1/2005</td>\n",
       "      <td>2005</td>\n",
       "      <td>12</td>\n",
       "      <td>11433</td>\n",
       "      <td>DTW</td>\n",
       "      <td>43.0</td>\n",
       "      <td>10411.0</td>\n",
       "      <td>AUA</td>\n",
       "      <td>277.0</td>\n",
       "      <td>20344.0</td>\n",
       "      <td>RD</td>\n",
       "      <td>1.0</td>\n",
       "      <td>Passengers</td>\n",
       "      <td>0.0</td>\n",
       "      <td>1010.0</td>\n",
       "      <td>1010.0</td>\n",
       "    </tr>\n",
       "    <tr>\n",
       "      <th>3</th>\n",
       "      <td>4/1/2003</td>\n",
       "      <td>2003</td>\n",
       "      <td>4</td>\n",
       "      <td>13487</td>\n",
       "      <td>MSP</td>\n",
       "      <td>63.0</td>\n",
       "      <td>16304.0</td>\n",
       "      <td>ZIH</td>\n",
       "      <td>148.0</td>\n",
       "      <td>20204.0</td>\n",
       "      <td>MG</td>\n",
       "      <td>1.0</td>\n",
       "      <td>Passengers</td>\n",
       "      <td>0.0</td>\n",
       "      <td>508.0</td>\n",
       "      <td>508.0</td>\n",
       "    </tr>\n",
       "    <tr>\n",
       "      <th>4</th>\n",
       "      <td>12/1/2005</td>\n",
       "      <td>2005</td>\n",
       "      <td>12</td>\n",
       "      <td>12016</td>\n",
       "      <td>GUM</td>\n",
       "      <td>5.0</td>\n",
       "      <td>11138.0</td>\n",
       "      <td>CRK</td>\n",
       "      <td>766.0</td>\n",
       "      <td>20312.0</td>\n",
       "      <td>TZ</td>\n",
       "      <td>1.0</td>\n",
       "      <td>Passengers</td>\n",
       "      <td>0.0</td>\n",
       "      <td>76.0</td>\n",
       "      <td>76.0</td>\n",
       "    </tr>\n",
       "    <tr>\n",
       "      <th>...</th>\n",
       "      <td>...</td>\n",
       "      <td>...</td>\n",
       "      <td>...</td>\n",
       "      <td>...</td>\n",
       "      <td>...</td>\n",
       "      <td>...</td>\n",
       "      <td>...</td>\n",
       "      <td>...</td>\n",
       "      <td>...</td>\n",
       "      <td>...</td>\n",
       "      <td>...</td>\n",
       "      <td>...</td>\n",
       "      <td>...</td>\n",
       "      <td>...</td>\n",
       "      <td>...</td>\n",
       "      <td>...</td>\n",
       "    </tr>\n",
       "    <tr>\n",
       "      <th>421167</th>\n",
       "      <td>9/1/1990</td>\n",
       "      <td>1990</td>\n",
       "      <td>9</td>\n",
       "      <td>14771</td>\n",
       "      <td>SFO</td>\n",
       "      <td>91.0</td>\n",
       "      <td>16257.0</td>\n",
       "      <td>YYC</td>\n",
       "      <td>916.0</td>\n",
       "      <td>19531.0</td>\n",
       "      <td>AC</td>\n",
       "      <td>0.0</td>\n",
       "      <td>Passengers</td>\n",
       "      <td>6238.0</td>\n",
       "      <td>0.0</td>\n",
       "      <td>6238.0</td>\n",
       "    </tr>\n",
       "    <tr>\n",
       "      <th>421168</th>\n",
       "      <td>7/1/1996</td>\n",
       "      <td>1996</td>\n",
       "      <td>7</td>\n",
       "      <td>14771</td>\n",
       "      <td>SFO</td>\n",
       "      <td>91.0</td>\n",
       "      <td>13518.0</td>\n",
       "      <td>MUC</td>\n",
       "      <td>429.0</td>\n",
       "      <td>19554.0</td>\n",
       "      <td>LH</td>\n",
       "      <td>0.0</td>\n",
       "      <td>Passengers</td>\n",
       "      <td>6238.0</td>\n",
       "      <td>0.0</td>\n",
       "      <td>6238.0</td>\n",
       "    </tr>\n",
       "    <tr>\n",
       "      <th>421169</th>\n",
       "      <td>4/1/2009</td>\n",
       "      <td>2009</td>\n",
       "      <td>4</td>\n",
       "      <td>10397</td>\n",
       "      <td>ATL</td>\n",
       "      <td>34.0</td>\n",
       "      <td>14309.0</td>\n",
       "      <td>PVG</td>\n",
       "      <td>713.0</td>\n",
       "      <td>19790.0</td>\n",
       "      <td>DL</td>\n",
       "      <td>1.0</td>\n",
       "      <td>Passengers</td>\n",
       "      <td>6238.0</td>\n",
       "      <td>0.0</td>\n",
       "      <td>6238.0</td>\n",
       "    </tr>\n",
       "    <tr>\n",
       "      <th>421170</th>\n",
       "      <td>9/1/2008</td>\n",
       "      <td>2008</td>\n",
       "      <td>9</td>\n",
       "      <td>12266</td>\n",
       "      <td>IAH</td>\n",
       "      <td>74.0</td>\n",
       "      <td>13252.0</td>\n",
       "      <td>MEX</td>\n",
       "      <td>148.0</td>\n",
       "      <td>20374.0</td>\n",
       "      <td>XE</td>\n",
       "      <td>1.0</td>\n",
       "      <td>Passengers</td>\n",
       "      <td>6239.0</td>\n",
       "      <td>0.0</td>\n",
       "      <td>6239.0</td>\n",
       "    </tr>\n",
       "    <tr>\n",
       "      <th>421171</th>\n",
       "      <td>11/1/2016</td>\n",
       "      <td>2016</td>\n",
       "      <td>11</td>\n",
       "      <td>14</td>\n",
       "      <td>NaN</td>\n",
       "      <td>NaN</td>\n",
       "      <td>NaN</td>\n",
       "      <td>NaN</td>\n",
       "      <td>NaN</td>\n",
       "      <td>NaN</td>\n",
       "      <td>NaN</td>\n",
       "      <td>NaN</td>\n",
       "      <td>NaN</td>\n",
       "      <td>NaN</td>\n",
       "      <td>NaN</td>\n",
       "      <td>NaN</td>\n",
       "    </tr>\n",
       "  </tbody>\n",
       "</table>\n",
       "<p>421172 rows × 16 columns</p>\n",
       "</div>\n",
       "    <div class=\"colab-df-buttons\">\n",
       "\n",
       "  <div class=\"colab-df-container\">\n",
       "    <button class=\"colab-df-convert\" onclick=\"convertToInteractive('df-99413270-1b70-44b2-ace4-f42262329e24')\"\n",
       "            title=\"Convert this dataframe to an interactive table.\"\n",
       "            style=\"display:none;\">\n",
       "\n",
       "  <svg xmlns=\"http://www.w3.org/2000/svg\" height=\"24px\" viewBox=\"0 -960 960 960\">\n",
       "    <path d=\"M120-120v-720h720v720H120Zm60-500h600v-160H180v160Zm220 220h160v-160H400v160Zm0 220h160v-160H400v160ZM180-400h160v-160H180v160Zm440 0h160v-160H620v160ZM180-180h160v-160H180v160Zm440 0h160v-160H620v160Z\"/>\n",
       "  </svg>\n",
       "    </button>\n",
       "\n",
       "  <style>\n",
       "    .colab-df-container {\n",
       "      display:flex;\n",
       "      gap: 12px;\n",
       "    }\n",
       "\n",
       "    .colab-df-convert {\n",
       "      background-color: #E8F0FE;\n",
       "      border: none;\n",
       "      border-radius: 50%;\n",
       "      cursor: pointer;\n",
       "      display: none;\n",
       "      fill: #1967D2;\n",
       "      height: 32px;\n",
       "      padding: 0 0 0 0;\n",
       "      width: 32px;\n",
       "    }\n",
       "\n",
       "    .colab-df-convert:hover {\n",
       "      background-color: #E2EBFA;\n",
       "      box-shadow: 0px 1px 2px rgba(60, 64, 67, 0.3), 0px 1px 3px 1px rgba(60, 64, 67, 0.15);\n",
       "      fill: #174EA6;\n",
       "    }\n",
       "\n",
       "    .colab-df-buttons div {\n",
       "      margin-bottom: 4px;\n",
       "    }\n",
       "\n",
       "    [theme=dark] .colab-df-convert {\n",
       "      background-color: #3B4455;\n",
       "      fill: #D2E3FC;\n",
       "    }\n",
       "\n",
       "    [theme=dark] .colab-df-convert:hover {\n",
       "      background-color: #434B5C;\n",
       "      box-shadow: 0px 1px 3px 1px rgba(0, 0, 0, 0.15);\n",
       "      filter: drop-shadow(0px 1px 2px rgba(0, 0, 0, 0.3));\n",
       "      fill: #FFFFFF;\n",
       "    }\n",
       "  </style>\n",
       "\n",
       "    <script>\n",
       "      const buttonEl =\n",
       "        document.querySelector('#df-99413270-1b70-44b2-ace4-f42262329e24 button.colab-df-convert');\n",
       "      buttonEl.style.display =\n",
       "        google.colab.kernel.accessAllowed ? 'block' : 'none';\n",
       "\n",
       "      async function convertToInteractive(key) {\n",
       "        const element = document.querySelector('#df-99413270-1b70-44b2-ace4-f42262329e24');\n",
       "        const dataTable =\n",
       "          await google.colab.kernel.invokeFunction('convertToInteractive',\n",
       "                                                    [key], {});\n",
       "        if (!dataTable) return;\n",
       "\n",
       "        const docLinkHtml = 'Like what you see? Visit the ' +\n",
       "          '<a target=\"_blank\" href=https://colab.research.google.com/notebooks/data_table.ipynb>data table notebook</a>'\n",
       "          + ' to learn more about interactive tables.';\n",
       "        element.innerHTML = '';\n",
       "        dataTable['output_type'] = 'display_data';\n",
       "        await google.colab.output.renderOutput(dataTable, element);\n",
       "        const docLink = document.createElement('div');\n",
       "        docLink.innerHTML = docLinkHtml;\n",
       "        element.appendChild(docLink);\n",
       "      }\n",
       "    </script>\n",
       "  </div>\n",
       "\n",
       "\n",
       "<div id=\"df-c381ee01-2af3-475f-8d56-0e4a6c94eded\">\n",
       "  <button class=\"colab-df-quickchart\" onclick=\"quickchart('df-c381ee01-2af3-475f-8d56-0e4a6c94eded')\"\n",
       "            title=\"Suggest charts.\"\n",
       "            style=\"display:none;\">\n",
       "\n",
       "<svg xmlns=\"http://www.w3.org/2000/svg\" height=\"24px\"viewBox=\"0 0 24 24\"\n",
       "     width=\"24px\">\n",
       "    <g>\n",
       "        <path d=\"M19 3H5c-1.1 0-2 .9-2 2v14c0 1.1.9 2 2 2h14c1.1 0 2-.9 2-2V5c0-1.1-.9-2-2-2zM9 17H7v-7h2v7zm4 0h-2V7h2v10zm4 0h-2v-4h2v4z\"/>\n",
       "    </g>\n",
       "</svg>\n",
       "  </button>\n",
       "\n",
       "<style>\n",
       "  .colab-df-quickchart {\n",
       "    background-color: #E8F0FE;\n",
       "    border: none;\n",
       "    border-radius: 50%;\n",
       "    cursor: pointer;\n",
       "    display: none;\n",
       "    fill: #1967D2;\n",
       "    height: 32px;\n",
       "    padding: 0 0 0 0;\n",
       "    width: 32px;\n",
       "  }\n",
       "\n",
       "  .colab-df-quickchart:hover {\n",
       "    background-color: #E2EBFA;\n",
       "    box-shadow: 0px 1px 2px rgba(60, 64, 67, 0.3), 0px 1px 3px 1px rgba(60, 64, 67, 0.15);\n",
       "    fill: #174EA6;\n",
       "  }\n",
       "\n",
       "  [theme=dark] .colab-df-quickchart {\n",
       "    background-color: #3B4455;\n",
       "    fill: #D2E3FC;\n",
       "  }\n",
       "\n",
       "  [theme=dark] .colab-df-quickchart:hover {\n",
       "    background-color: #434B5C;\n",
       "    box-shadow: 0px 1px 3px 1px rgba(0, 0, 0, 0.15);\n",
       "    filter: drop-shadow(0px 1px 2px rgba(0, 0, 0, 0.3));\n",
       "    fill: #FFFFFF;\n",
       "  }\n",
       "</style>\n",
       "\n",
       "  <script>\n",
       "    async function quickchart(key) {\n",
       "      const charts = await google.colab.kernel.invokeFunction(\n",
       "          'suggestCharts', [key], {});\n",
       "    }\n",
       "    (() => {\n",
       "      let quickchartButtonEl =\n",
       "        document.querySelector('#df-c381ee01-2af3-475f-8d56-0e4a6c94eded button');\n",
       "      quickchartButtonEl.style.display =\n",
       "        google.colab.kernel.accessAllowed ? 'block' : 'none';\n",
       "    })();\n",
       "  </script>\n",
       "</div>\n",
       "    </div>\n",
       "  </div>\n"
      ],
      "text/plain": [
       "         data_dte  Year  Month  usg_apt_id usg_apt  usg_wac  fg_apt_id fg_apt  \\\n",
       "0        5/1/2014  2014      5       14492     RDU     36.0    11032.0    CUN   \n",
       "1        6/1/2007  2007      6       13204     MCO     33.0    16085.0    YHZ   \n",
       "2       12/1/2005  2005     12       11433     DTW     43.0    10411.0    AUA   \n",
       "3        4/1/2003  2003      4       13487     MSP     63.0    16304.0    ZIH   \n",
       "4       12/1/2005  2005     12       12016     GUM      5.0    11138.0    CRK   \n",
       "...           ...   ...    ...         ...     ...      ...        ...    ...   \n",
       "421167   9/1/1990  1990      9       14771     SFO     91.0    16257.0    YYC   \n",
       "421168   7/1/1996  1996      7       14771     SFO     91.0    13518.0    MUC   \n",
       "421169   4/1/2009  2009      4       10397     ATL     34.0    14309.0    PVG   \n",
       "421170   9/1/2008  2008      9       12266     IAH     74.0    13252.0    MEX   \n",
       "421171  11/1/2016  2016     11          14     NaN      NaN        NaN    NaN   \n",
       "\n",
       "        fg_wac  airlineid carrier  carriergroup        type  Scheduled  \\\n",
       "0        148.0    19534.0      AM           0.0  Passengers        0.0   \n",
       "1        951.0    20364.0      C6           0.0  Passengers        0.0   \n",
       "2        277.0    20344.0      RD           1.0  Passengers        0.0   \n",
       "3        148.0    20204.0      MG           1.0  Passengers        0.0   \n",
       "4        766.0    20312.0      TZ           1.0  Passengers        0.0   \n",
       "...        ...        ...     ...           ...         ...        ...   \n",
       "421167   916.0    19531.0      AC           0.0  Passengers     6238.0   \n",
       "421168   429.0    19554.0      LH           0.0  Passengers     6238.0   \n",
       "421169   713.0    19790.0      DL           1.0  Passengers     6238.0   \n",
       "421170   148.0    20374.0      XE           1.0  Passengers     6239.0   \n",
       "421171     NaN        NaN     NaN           NaN         NaN        NaN   \n",
       "\n",
       "        Charter   Total  \n",
       "0         315.0   315.0  \n",
       "1         683.0   683.0  \n",
       "2        1010.0  1010.0  \n",
       "3         508.0   508.0  \n",
       "4          76.0    76.0  \n",
       "...         ...     ...  \n",
       "421167      0.0  6238.0  \n",
       "421168      0.0  6238.0  \n",
       "421169      0.0  6238.0  \n",
       "421170      0.0  6239.0  \n",
       "421171      NaN     NaN  \n",
       "\n",
       "[421172 rows x 16 columns]"
      ]
     },
     "execution_count": 113,
     "metadata": {},
     "output_type": "execute_result"
    }
   ],
   "source": [
    "df"
   ]
  },
  {
   "cell_type": "markdown",
   "metadata": {
    "id": "raDFiSSQR3lo"
   },
   "source": [
    "length of df"
   ]
  },
  {
   "cell_type": "code",
   "execution_count": 114,
   "metadata": {
    "colab": {
     "base_uri": "https://localhost:8080/"
    },
    "id": "VOlA1EFi93hA",
    "outputId": "99a46672-8077-4e08-c3bd-046973ea423d"
   },
   "outputs": [
    {
     "data": {
      "text/plain": [
       "421172"
      ]
     },
     "execution_count": 114,
     "metadata": {},
     "output_type": "execute_result"
    }
   ],
   "source": [
    "no=len(df)\n",
    "no"
   ]
  },
  {
   "cell_type": "markdown",
   "metadata": {
    "id": "aGtP7e7aR-8r"
   },
   "source": [
    "df information\n",
    "\n"
   ]
  },
  {
   "cell_type": "code",
   "execution_count": 115,
   "metadata": {
    "colab": {
     "base_uri": "https://localhost:8080/"
    },
    "id": "cPsBCjtf6fS4",
    "outputId": "e9a9ddc7-e79b-41a9-b0fa-5da5402c4912"
   },
   "outputs": [
    {
     "name": "stdout",
     "output_type": "stream",
     "text": [
      "<class 'pandas.core.frame.DataFrame'>\n",
      "RangeIndex: 421172 entries, 0 to 421171\n",
      "Data columns (total 16 columns):\n",
      " #   Column        Non-Null Count   Dtype  \n",
      "---  ------        --------------   -----  \n",
      " 0   data_dte      421172 non-null  object \n",
      " 1   Year          421172 non-null  int64  \n",
      " 2   Month         421172 non-null  int64  \n",
      " 3   usg_apt_id    421172 non-null  int64  \n",
      " 4   usg_apt       421171 non-null  object \n",
      " 5   usg_wac       421171 non-null  float64\n",
      " 6   fg_apt_id     421171 non-null  float64\n",
      " 7   fg_apt        421171 non-null  object \n",
      " 8   fg_wac        421171 non-null  float64\n",
      " 9   airlineid     421171 non-null  float64\n",
      " 10  carrier       418647 non-null  object \n",
      " 11  carriergroup  421171 non-null  float64\n",
      " 12  type          421171 non-null  object \n",
      " 13  Scheduled     421171 non-null  float64\n",
      " 14  Charter       421171 non-null  float64\n",
      " 15  Total         421171 non-null  float64\n",
      "dtypes: float64(8), int64(3), object(5)\n",
      "memory usage: 51.4+ MB\n"
     ]
    }
   ],
   "source": [
    "df.info()"
   ]
  },
  {
   "cell_type": "code",
   "execution_count": 116,
   "metadata": {
    "colab": {
     "base_uri": "https://localhost:8080/",
     "height": 320
    },
    "id": "f1u8fueX6fXK",
    "outputId": "253eeb04-d8a1-4274-993e-8c4bd55550b8"
   },
   "outputs": [
    {
     "data": {
      "text/html": [
       "\n",
       "  <div id=\"df-d0dad4af-3ca0-43e9-8366-bdb0e05d7649\" class=\"colab-df-container\">\n",
       "    <div>\n",
       "<style scoped>\n",
       "    .dataframe tbody tr th:only-of-type {\n",
       "        vertical-align: middle;\n",
       "    }\n",
       "\n",
       "    .dataframe tbody tr th {\n",
       "        vertical-align: top;\n",
       "    }\n",
       "\n",
       "    .dataframe thead th {\n",
       "        text-align: right;\n",
       "    }\n",
       "</style>\n",
       "<table border=\"1\" class=\"dataframe\">\n",
       "  <thead>\n",
       "    <tr style=\"text-align: right;\">\n",
       "      <th></th>\n",
       "      <th>Year</th>\n",
       "      <th>Month</th>\n",
       "      <th>usg_apt_id</th>\n",
       "      <th>usg_wac</th>\n",
       "      <th>fg_apt_id</th>\n",
       "      <th>fg_wac</th>\n",
       "      <th>airlineid</th>\n",
       "      <th>carriergroup</th>\n",
       "      <th>Scheduled</th>\n",
       "      <th>Charter</th>\n",
       "      <th>Total</th>\n",
       "    </tr>\n",
       "  </thead>\n",
       "  <tbody>\n",
       "    <tr>\n",
       "      <th>count</th>\n",
       "      <td>421172.000000</td>\n",
       "      <td>421172.000000</td>\n",
       "      <td>421172.000000</td>\n",
       "      <td>421171.000000</td>\n",
       "      <td>421171.000000</td>\n",
       "      <td>421171.000000</td>\n",
       "      <td>421171.000000</td>\n",
       "      <td>421171.000000</td>\n",
       "      <td>421171.000000</td>\n",
       "      <td>421171.000000</td>\n",
       "      <td>421171.000000</td>\n",
       "    </tr>\n",
       "    <tr>\n",
       "      <th>mean</th>\n",
       "      <td>2005.398851</td>\n",
       "      <td>6.277773</td>\n",
       "      <td>12835.906736</td>\n",
       "      <td>43.568458</td>\n",
       "      <td>13645.446973</td>\n",
       "      <td>451.370208</td>\n",
       "      <td>20126.501965</td>\n",
       "      <td>0.571464</td>\n",
       "      <td>1540.550339</td>\n",
       "      <td>314.288849</td>\n",
       "      <td>1854.839189</td>\n",
       "    </tr>\n",
       "    <tr>\n",
       "      <th>std</th>\n",
       "      <td>8.804589</td>\n",
       "      <td>3.514895</td>\n",
       "      <td>3043.996761</td>\n",
       "      <td>27.629031</td>\n",
       "      <td>2019.931262</td>\n",
       "      <td>311.820654</td>\n",
       "      <td>536.035426</td>\n",
       "      <td>0.494867</td>\n",
       "      <td>1900.898263</td>\n",
       "      <td>1190.254787</td>\n",
       "      <td>2019.732402</td>\n",
       "    </tr>\n",
       "    <tr>\n",
       "      <th>min</th>\n",
       "      <td>1990.000000</td>\n",
       "      <td>1.000000</td>\n",
       "      <td>14.000000</td>\n",
       "      <td>1.000000</td>\n",
       "      <td>10125.000000</td>\n",
       "      <td>106.000000</td>\n",
       "      <td>19386.000000</td>\n",
       "      <td>0.000000</td>\n",
       "      <td>0.000000</td>\n",
       "      <td>0.000000</td>\n",
       "      <td>1.000000</td>\n",
       "    </tr>\n",
       "    <tr>\n",
       "      <th>25%</th>\n",
       "      <td>1998.000000</td>\n",
       "      <td>3.000000</td>\n",
       "      <td>11618.000000</td>\n",
       "      <td>22.000000</td>\n",
       "      <td>11868.000000</td>\n",
       "      <td>148.000000</td>\n",
       "      <td>19704.000000</td>\n",
       "      <td>0.000000</td>\n",
       "      <td>0.000000</td>\n",
       "      <td>0.000000</td>\n",
       "      <td>178.000000</td>\n",
       "    </tr>\n",
       "    <tr>\n",
       "      <th>50%</th>\n",
       "      <td>2006.000000</td>\n",
       "      <td>6.000000</td>\n",
       "      <td>12889.000000</td>\n",
       "      <td>33.000000</td>\n",
       "      <td>13605.000000</td>\n",
       "      <td>316.000000</td>\n",
       "      <td>20057.000000</td>\n",
       "      <td>1.000000</td>\n",
       "      <td>495.000000</td>\n",
       "      <td>0.000000</td>\n",
       "      <td>1112.000000</td>\n",
       "    </tr>\n",
       "    <tr>\n",
       "      <th>75%</th>\n",
       "      <td>2013.000000</td>\n",
       "      <td>9.000000</td>\n",
       "      <td>13930.000000</td>\n",
       "      <td>74.000000</td>\n",
       "      <td>15999.000000</td>\n",
       "      <td>802.000000</td>\n",
       "      <td>20374.000000</td>\n",
       "      <td>1.000000</td>\n",
       "      <td>2798.000000</td>\n",
       "      <td>44.000000</td>\n",
       "      <td>3098.000000</td>\n",
       "    </tr>\n",
       "    <tr>\n",
       "      <th>max</th>\n",
       "      <td>2020.000000</td>\n",
       "      <td>12.000000</td>\n",
       "      <td>99999.000000</td>\n",
       "      <td>93.000000</td>\n",
       "      <td>16881.000000</td>\n",
       "      <td>975.000000</td>\n",
       "      <td>22067.000000</td>\n",
       "      <td>1.000000</td>\n",
       "      <td>6239.000000</td>\n",
       "      <td>44529.000000</td>\n",
       "      <td>44529.000000</td>\n",
       "    </tr>\n",
       "  </tbody>\n",
       "</table>\n",
       "</div>\n",
       "    <div class=\"colab-df-buttons\">\n",
       "\n",
       "  <div class=\"colab-df-container\">\n",
       "    <button class=\"colab-df-convert\" onclick=\"convertToInteractive('df-d0dad4af-3ca0-43e9-8366-bdb0e05d7649')\"\n",
       "            title=\"Convert this dataframe to an interactive table.\"\n",
       "            style=\"display:none;\">\n",
       "\n",
       "  <svg xmlns=\"http://www.w3.org/2000/svg\" height=\"24px\" viewBox=\"0 -960 960 960\">\n",
       "    <path d=\"M120-120v-720h720v720H120Zm60-500h600v-160H180v160Zm220 220h160v-160H400v160Zm0 220h160v-160H400v160ZM180-400h160v-160H180v160Zm440 0h160v-160H620v160ZM180-180h160v-160H180v160Zm440 0h160v-160H620v160Z\"/>\n",
       "  </svg>\n",
       "    </button>\n",
       "\n",
       "  <style>\n",
       "    .colab-df-container {\n",
       "      display:flex;\n",
       "      gap: 12px;\n",
       "    }\n",
       "\n",
       "    .colab-df-convert {\n",
       "      background-color: #E8F0FE;\n",
       "      border: none;\n",
       "      border-radius: 50%;\n",
       "      cursor: pointer;\n",
       "      display: none;\n",
       "      fill: #1967D2;\n",
       "      height: 32px;\n",
       "      padding: 0 0 0 0;\n",
       "      width: 32px;\n",
       "    }\n",
       "\n",
       "    .colab-df-convert:hover {\n",
       "      background-color: #E2EBFA;\n",
       "      box-shadow: 0px 1px 2px rgba(60, 64, 67, 0.3), 0px 1px 3px 1px rgba(60, 64, 67, 0.15);\n",
       "      fill: #174EA6;\n",
       "    }\n",
       "\n",
       "    .colab-df-buttons div {\n",
       "      margin-bottom: 4px;\n",
       "    }\n",
       "\n",
       "    [theme=dark] .colab-df-convert {\n",
       "      background-color: #3B4455;\n",
       "      fill: #D2E3FC;\n",
       "    }\n",
       "\n",
       "    [theme=dark] .colab-df-convert:hover {\n",
       "      background-color: #434B5C;\n",
       "      box-shadow: 0px 1px 3px 1px rgba(0, 0, 0, 0.15);\n",
       "      filter: drop-shadow(0px 1px 2px rgba(0, 0, 0, 0.3));\n",
       "      fill: #FFFFFF;\n",
       "    }\n",
       "  </style>\n",
       "\n",
       "    <script>\n",
       "      const buttonEl =\n",
       "        document.querySelector('#df-d0dad4af-3ca0-43e9-8366-bdb0e05d7649 button.colab-df-convert');\n",
       "      buttonEl.style.display =\n",
       "        google.colab.kernel.accessAllowed ? 'block' : 'none';\n",
       "\n",
       "      async function convertToInteractive(key) {\n",
       "        const element = document.querySelector('#df-d0dad4af-3ca0-43e9-8366-bdb0e05d7649');\n",
       "        const dataTable =\n",
       "          await google.colab.kernel.invokeFunction('convertToInteractive',\n",
       "                                                    [key], {});\n",
       "        if (!dataTable) return;\n",
       "\n",
       "        const docLinkHtml = 'Like what you see? Visit the ' +\n",
       "          '<a target=\"_blank\" href=https://colab.research.google.com/notebooks/data_table.ipynb>data table notebook</a>'\n",
       "          + ' to learn more about interactive tables.';\n",
       "        element.innerHTML = '';\n",
       "        dataTable['output_type'] = 'display_data';\n",
       "        await google.colab.output.renderOutput(dataTable, element);\n",
       "        const docLink = document.createElement('div');\n",
       "        docLink.innerHTML = docLinkHtml;\n",
       "        element.appendChild(docLink);\n",
       "      }\n",
       "    </script>\n",
       "  </div>\n",
       "\n",
       "\n",
       "<div id=\"df-9320e6e3-41fc-40b8-9990-00dc08e562df\">\n",
       "  <button class=\"colab-df-quickchart\" onclick=\"quickchart('df-9320e6e3-41fc-40b8-9990-00dc08e562df')\"\n",
       "            title=\"Suggest charts.\"\n",
       "            style=\"display:none;\">\n",
       "\n",
       "<svg xmlns=\"http://www.w3.org/2000/svg\" height=\"24px\"viewBox=\"0 0 24 24\"\n",
       "     width=\"24px\">\n",
       "    <g>\n",
       "        <path d=\"M19 3H5c-1.1 0-2 .9-2 2v14c0 1.1.9 2 2 2h14c1.1 0 2-.9 2-2V5c0-1.1-.9-2-2-2zM9 17H7v-7h2v7zm4 0h-2V7h2v10zm4 0h-2v-4h2v4z\"/>\n",
       "    </g>\n",
       "</svg>\n",
       "  </button>\n",
       "\n",
       "<style>\n",
       "  .colab-df-quickchart {\n",
       "    background-color: #E8F0FE;\n",
       "    border: none;\n",
       "    border-radius: 50%;\n",
       "    cursor: pointer;\n",
       "    display: none;\n",
       "    fill: #1967D2;\n",
       "    height: 32px;\n",
       "    padding: 0 0 0 0;\n",
       "    width: 32px;\n",
       "  }\n",
       "\n",
       "  .colab-df-quickchart:hover {\n",
       "    background-color: #E2EBFA;\n",
       "    box-shadow: 0px 1px 2px rgba(60, 64, 67, 0.3), 0px 1px 3px 1px rgba(60, 64, 67, 0.15);\n",
       "    fill: #174EA6;\n",
       "  }\n",
       "\n",
       "  [theme=dark] .colab-df-quickchart {\n",
       "    background-color: #3B4455;\n",
       "    fill: #D2E3FC;\n",
       "  }\n",
       "\n",
       "  [theme=dark] .colab-df-quickchart:hover {\n",
       "    background-color: #434B5C;\n",
       "    box-shadow: 0px 1px 3px 1px rgba(0, 0, 0, 0.15);\n",
       "    filter: drop-shadow(0px 1px 2px rgba(0, 0, 0, 0.3));\n",
       "    fill: #FFFFFF;\n",
       "  }\n",
       "</style>\n",
       "\n",
       "  <script>\n",
       "    async function quickchart(key) {\n",
       "      const charts = await google.colab.kernel.invokeFunction(\n",
       "          'suggestCharts', [key], {});\n",
       "    }\n",
       "    (() => {\n",
       "      let quickchartButtonEl =\n",
       "        document.querySelector('#df-9320e6e3-41fc-40b8-9990-00dc08e562df button');\n",
       "      quickchartButtonEl.style.display =\n",
       "        google.colab.kernel.accessAllowed ? 'block' : 'none';\n",
       "    })();\n",
       "  </script>\n",
       "</div>\n",
       "    </div>\n",
       "  </div>\n"
      ],
      "text/plain": [
       "                Year          Month     usg_apt_id        usg_wac  \\\n",
       "count  421172.000000  421172.000000  421172.000000  421171.000000   \n",
       "mean     2005.398851       6.277773   12835.906736      43.568458   \n",
       "std         8.804589       3.514895    3043.996761      27.629031   \n",
       "min      1990.000000       1.000000      14.000000       1.000000   \n",
       "25%      1998.000000       3.000000   11618.000000      22.000000   \n",
       "50%      2006.000000       6.000000   12889.000000      33.000000   \n",
       "75%      2013.000000       9.000000   13930.000000      74.000000   \n",
       "max      2020.000000      12.000000   99999.000000      93.000000   \n",
       "\n",
       "           fg_apt_id         fg_wac      airlineid   carriergroup  \\\n",
       "count  421171.000000  421171.000000  421171.000000  421171.000000   \n",
       "mean    13645.446973     451.370208   20126.501965       0.571464   \n",
       "std      2019.931262     311.820654     536.035426       0.494867   \n",
       "min     10125.000000     106.000000   19386.000000       0.000000   \n",
       "25%     11868.000000     148.000000   19704.000000       0.000000   \n",
       "50%     13605.000000     316.000000   20057.000000       1.000000   \n",
       "75%     15999.000000     802.000000   20374.000000       1.000000   \n",
       "max     16881.000000     975.000000   22067.000000       1.000000   \n",
       "\n",
       "           Scheduled        Charter          Total  \n",
       "count  421171.000000  421171.000000  421171.000000  \n",
       "mean     1540.550339     314.288849    1854.839189  \n",
       "std      1900.898263    1190.254787    2019.732402  \n",
       "min         0.000000       0.000000       1.000000  \n",
       "25%         0.000000       0.000000     178.000000  \n",
       "50%       495.000000       0.000000    1112.000000  \n",
       "75%      2798.000000      44.000000    3098.000000  \n",
       "max      6239.000000   44529.000000   44529.000000  "
      ]
     },
     "execution_count": 116,
     "metadata": {},
     "output_type": "execute_result"
    }
   ],
   "source": [
    "df.describe()"
   ]
  },
  {
   "cell_type": "code",
   "execution_count": 117,
   "metadata": {
    "colab": {
     "base_uri": "https://localhost:8080/"
    },
    "id": "RXCsDvdG6fa3",
    "outputId": "3e05ada0-9179-4bf2-ec30-c51a458dd85f"
   },
   "outputs": [
    {
     "data": {
      "text/plain": [
       "data_dte         363\n",
       "Year              31\n",
       "Month             12\n",
       "usg_apt_id       833\n",
       "usg_apt          837\n",
       "usg_wac           54\n",
       "fg_apt_id       1302\n",
       "fg_apt          1302\n",
       "fg_wac           208\n",
       "airlineid        569\n",
       "carrier          591\n",
       "carriergroup       2\n",
       "type               1\n",
       "Scheduled       6240\n",
       "Charter         8344\n",
       "Total           8947\n",
       "dtype: int64"
      ]
     },
     "execution_count": 117,
     "metadata": {},
     "output_type": "execute_result"
    }
   ],
   "source": [
    "df.nunique()"
   ]
  },
  {
   "cell_type": "markdown",
   "metadata": {
    "id": "WxpE1Bcy-iy9"
   },
   "source": [
    "# **LOOKING FOR NULL VALUES & NULL PERCENTAGE VISUALIZATION**"
   ]
  },
  {
   "cell_type": "code",
   "execution_count": 118,
   "metadata": {
    "colab": {
     "base_uri": "https://localhost:8080/",
     "height": 444
    },
    "id": "U7P-wWAF9eEv",
    "outputId": "d57ce16e-b4a7-4542-fc25-03d04a660695"
   },
   "outputs": [
    {
     "data": {
      "text/html": [
       "\n",
       "  <div id=\"df-10086319-2be4-4ee8-9f69-600b4b09ea6e\" class=\"colab-df-container\">\n",
       "    <div>\n",
       "<style scoped>\n",
       "    .dataframe tbody tr th:only-of-type {\n",
       "        vertical-align: middle;\n",
       "    }\n",
       "\n",
       "    .dataframe tbody tr th {\n",
       "        vertical-align: top;\n",
       "    }\n",
       "\n",
       "    .dataframe thead th {\n",
       "        text-align: right;\n",
       "    }\n",
       "</style>\n",
       "<table border=\"1\" class=\"dataframe\">\n",
       "  <thead>\n",
       "    <tr style=\"text-align: right;\">\n",
       "      <th></th>\n",
       "      <th>data_dte</th>\n",
       "      <th>Year</th>\n",
       "      <th>Month</th>\n",
       "      <th>usg_apt_id</th>\n",
       "      <th>usg_apt</th>\n",
       "      <th>usg_wac</th>\n",
       "      <th>fg_apt_id</th>\n",
       "      <th>fg_apt</th>\n",
       "      <th>fg_wac</th>\n",
       "      <th>airlineid</th>\n",
       "      <th>carrier</th>\n",
       "      <th>carriergroup</th>\n",
       "      <th>type</th>\n",
       "      <th>Scheduled</th>\n",
       "      <th>Charter</th>\n",
       "      <th>Total</th>\n",
       "    </tr>\n",
       "  </thead>\n",
       "  <tbody>\n",
       "    <tr>\n",
       "      <th>0</th>\n",
       "      <td>False</td>\n",
       "      <td>False</td>\n",
       "      <td>False</td>\n",
       "      <td>False</td>\n",
       "      <td>False</td>\n",
       "      <td>False</td>\n",
       "      <td>False</td>\n",
       "      <td>False</td>\n",
       "      <td>False</td>\n",
       "      <td>False</td>\n",
       "      <td>False</td>\n",
       "      <td>False</td>\n",
       "      <td>False</td>\n",
       "      <td>False</td>\n",
       "      <td>False</td>\n",
       "      <td>False</td>\n",
       "    </tr>\n",
       "    <tr>\n",
       "      <th>1</th>\n",
       "      <td>False</td>\n",
       "      <td>False</td>\n",
       "      <td>False</td>\n",
       "      <td>False</td>\n",
       "      <td>False</td>\n",
       "      <td>False</td>\n",
       "      <td>False</td>\n",
       "      <td>False</td>\n",
       "      <td>False</td>\n",
       "      <td>False</td>\n",
       "      <td>False</td>\n",
       "      <td>False</td>\n",
       "      <td>False</td>\n",
       "      <td>False</td>\n",
       "      <td>False</td>\n",
       "      <td>False</td>\n",
       "    </tr>\n",
       "    <tr>\n",
       "      <th>2</th>\n",
       "      <td>False</td>\n",
       "      <td>False</td>\n",
       "      <td>False</td>\n",
       "      <td>False</td>\n",
       "      <td>False</td>\n",
       "      <td>False</td>\n",
       "      <td>False</td>\n",
       "      <td>False</td>\n",
       "      <td>False</td>\n",
       "      <td>False</td>\n",
       "      <td>False</td>\n",
       "      <td>False</td>\n",
       "      <td>False</td>\n",
       "      <td>False</td>\n",
       "      <td>False</td>\n",
       "      <td>False</td>\n",
       "    </tr>\n",
       "    <tr>\n",
       "      <th>3</th>\n",
       "      <td>False</td>\n",
       "      <td>False</td>\n",
       "      <td>False</td>\n",
       "      <td>False</td>\n",
       "      <td>False</td>\n",
       "      <td>False</td>\n",
       "      <td>False</td>\n",
       "      <td>False</td>\n",
       "      <td>False</td>\n",
       "      <td>False</td>\n",
       "      <td>False</td>\n",
       "      <td>False</td>\n",
       "      <td>False</td>\n",
       "      <td>False</td>\n",
       "      <td>False</td>\n",
       "      <td>False</td>\n",
       "    </tr>\n",
       "    <tr>\n",
       "      <th>4</th>\n",
       "      <td>False</td>\n",
       "      <td>False</td>\n",
       "      <td>False</td>\n",
       "      <td>False</td>\n",
       "      <td>False</td>\n",
       "      <td>False</td>\n",
       "      <td>False</td>\n",
       "      <td>False</td>\n",
       "      <td>False</td>\n",
       "      <td>False</td>\n",
       "      <td>False</td>\n",
       "      <td>False</td>\n",
       "      <td>False</td>\n",
       "      <td>False</td>\n",
       "      <td>False</td>\n",
       "      <td>False</td>\n",
       "    </tr>\n",
       "    <tr>\n",
       "      <th>...</th>\n",
       "      <td>...</td>\n",
       "      <td>...</td>\n",
       "      <td>...</td>\n",
       "      <td>...</td>\n",
       "      <td>...</td>\n",
       "      <td>...</td>\n",
       "      <td>...</td>\n",
       "      <td>...</td>\n",
       "      <td>...</td>\n",
       "      <td>...</td>\n",
       "      <td>...</td>\n",
       "      <td>...</td>\n",
       "      <td>...</td>\n",
       "      <td>...</td>\n",
       "      <td>...</td>\n",
       "      <td>...</td>\n",
       "    </tr>\n",
       "    <tr>\n",
       "      <th>421167</th>\n",
       "      <td>False</td>\n",
       "      <td>False</td>\n",
       "      <td>False</td>\n",
       "      <td>False</td>\n",
       "      <td>False</td>\n",
       "      <td>False</td>\n",
       "      <td>False</td>\n",
       "      <td>False</td>\n",
       "      <td>False</td>\n",
       "      <td>False</td>\n",
       "      <td>False</td>\n",
       "      <td>False</td>\n",
       "      <td>False</td>\n",
       "      <td>False</td>\n",
       "      <td>False</td>\n",
       "      <td>False</td>\n",
       "    </tr>\n",
       "    <tr>\n",
       "      <th>421168</th>\n",
       "      <td>False</td>\n",
       "      <td>False</td>\n",
       "      <td>False</td>\n",
       "      <td>False</td>\n",
       "      <td>False</td>\n",
       "      <td>False</td>\n",
       "      <td>False</td>\n",
       "      <td>False</td>\n",
       "      <td>False</td>\n",
       "      <td>False</td>\n",
       "      <td>False</td>\n",
       "      <td>False</td>\n",
       "      <td>False</td>\n",
       "      <td>False</td>\n",
       "      <td>False</td>\n",
       "      <td>False</td>\n",
       "    </tr>\n",
       "    <tr>\n",
       "      <th>421169</th>\n",
       "      <td>False</td>\n",
       "      <td>False</td>\n",
       "      <td>False</td>\n",
       "      <td>False</td>\n",
       "      <td>False</td>\n",
       "      <td>False</td>\n",
       "      <td>False</td>\n",
       "      <td>False</td>\n",
       "      <td>False</td>\n",
       "      <td>False</td>\n",
       "      <td>False</td>\n",
       "      <td>False</td>\n",
       "      <td>False</td>\n",
       "      <td>False</td>\n",
       "      <td>False</td>\n",
       "      <td>False</td>\n",
       "    </tr>\n",
       "    <tr>\n",
       "      <th>421170</th>\n",
       "      <td>False</td>\n",
       "      <td>False</td>\n",
       "      <td>False</td>\n",
       "      <td>False</td>\n",
       "      <td>False</td>\n",
       "      <td>False</td>\n",
       "      <td>False</td>\n",
       "      <td>False</td>\n",
       "      <td>False</td>\n",
       "      <td>False</td>\n",
       "      <td>False</td>\n",
       "      <td>False</td>\n",
       "      <td>False</td>\n",
       "      <td>False</td>\n",
       "      <td>False</td>\n",
       "      <td>False</td>\n",
       "    </tr>\n",
       "    <tr>\n",
       "      <th>421171</th>\n",
       "      <td>False</td>\n",
       "      <td>False</td>\n",
       "      <td>False</td>\n",
       "      <td>False</td>\n",
       "      <td>True</td>\n",
       "      <td>True</td>\n",
       "      <td>True</td>\n",
       "      <td>True</td>\n",
       "      <td>True</td>\n",
       "      <td>True</td>\n",
       "      <td>True</td>\n",
       "      <td>True</td>\n",
       "      <td>True</td>\n",
       "      <td>True</td>\n",
       "      <td>True</td>\n",
       "      <td>True</td>\n",
       "    </tr>\n",
       "  </tbody>\n",
       "</table>\n",
       "<p>421172 rows × 16 columns</p>\n",
       "</div>\n",
       "    <div class=\"colab-df-buttons\">\n",
       "\n",
       "  <div class=\"colab-df-container\">\n",
       "    <button class=\"colab-df-convert\" onclick=\"convertToInteractive('df-10086319-2be4-4ee8-9f69-600b4b09ea6e')\"\n",
       "            title=\"Convert this dataframe to an interactive table.\"\n",
       "            style=\"display:none;\">\n",
       "\n",
       "  <svg xmlns=\"http://www.w3.org/2000/svg\" height=\"24px\" viewBox=\"0 -960 960 960\">\n",
       "    <path d=\"M120-120v-720h720v720H120Zm60-500h600v-160H180v160Zm220 220h160v-160H400v160Zm0 220h160v-160H400v160ZM180-400h160v-160H180v160Zm440 0h160v-160H620v160ZM180-180h160v-160H180v160Zm440 0h160v-160H620v160Z\"/>\n",
       "  </svg>\n",
       "    </button>\n",
       "\n",
       "  <style>\n",
       "    .colab-df-container {\n",
       "      display:flex;\n",
       "      gap: 12px;\n",
       "    }\n",
       "\n",
       "    .colab-df-convert {\n",
       "      background-color: #E8F0FE;\n",
       "      border: none;\n",
       "      border-radius: 50%;\n",
       "      cursor: pointer;\n",
       "      display: none;\n",
       "      fill: #1967D2;\n",
       "      height: 32px;\n",
       "      padding: 0 0 0 0;\n",
       "      width: 32px;\n",
       "    }\n",
       "\n",
       "    .colab-df-convert:hover {\n",
       "      background-color: #E2EBFA;\n",
       "      box-shadow: 0px 1px 2px rgba(60, 64, 67, 0.3), 0px 1px 3px 1px rgba(60, 64, 67, 0.15);\n",
       "      fill: #174EA6;\n",
       "    }\n",
       "\n",
       "    .colab-df-buttons div {\n",
       "      margin-bottom: 4px;\n",
       "    }\n",
       "\n",
       "    [theme=dark] .colab-df-convert {\n",
       "      background-color: #3B4455;\n",
       "      fill: #D2E3FC;\n",
       "    }\n",
       "\n",
       "    [theme=dark] .colab-df-convert:hover {\n",
       "      background-color: #434B5C;\n",
       "      box-shadow: 0px 1px 3px 1px rgba(0, 0, 0, 0.15);\n",
       "      filter: drop-shadow(0px 1px 2px rgba(0, 0, 0, 0.3));\n",
       "      fill: #FFFFFF;\n",
       "    }\n",
       "  </style>\n",
       "\n",
       "    <script>\n",
       "      const buttonEl =\n",
       "        document.querySelector('#df-10086319-2be4-4ee8-9f69-600b4b09ea6e button.colab-df-convert');\n",
       "      buttonEl.style.display =\n",
       "        google.colab.kernel.accessAllowed ? 'block' : 'none';\n",
       "\n",
       "      async function convertToInteractive(key) {\n",
       "        const element = document.querySelector('#df-10086319-2be4-4ee8-9f69-600b4b09ea6e');\n",
       "        const dataTable =\n",
       "          await google.colab.kernel.invokeFunction('convertToInteractive',\n",
       "                                                    [key], {});\n",
       "        if (!dataTable) return;\n",
       "\n",
       "        const docLinkHtml = 'Like what you see? Visit the ' +\n",
       "          '<a target=\"_blank\" href=https://colab.research.google.com/notebooks/data_table.ipynb>data table notebook</a>'\n",
       "          + ' to learn more about interactive tables.';\n",
       "        element.innerHTML = '';\n",
       "        dataTable['output_type'] = 'display_data';\n",
       "        await google.colab.output.renderOutput(dataTable, element);\n",
       "        const docLink = document.createElement('div');\n",
       "        docLink.innerHTML = docLinkHtml;\n",
       "        element.appendChild(docLink);\n",
       "      }\n",
       "    </script>\n",
       "  </div>\n",
       "\n",
       "\n",
       "<div id=\"df-599b6b76-24c7-4fcb-b9d8-0729cc86e300\">\n",
       "  <button class=\"colab-df-quickchart\" onclick=\"quickchart('df-599b6b76-24c7-4fcb-b9d8-0729cc86e300')\"\n",
       "            title=\"Suggest charts.\"\n",
       "            style=\"display:none;\">\n",
       "\n",
       "<svg xmlns=\"http://www.w3.org/2000/svg\" height=\"24px\"viewBox=\"0 0 24 24\"\n",
       "     width=\"24px\">\n",
       "    <g>\n",
       "        <path d=\"M19 3H5c-1.1 0-2 .9-2 2v14c0 1.1.9 2 2 2h14c1.1 0 2-.9 2-2V5c0-1.1-.9-2-2-2zM9 17H7v-7h2v7zm4 0h-2V7h2v10zm4 0h-2v-4h2v4z\"/>\n",
       "    </g>\n",
       "</svg>\n",
       "  </button>\n",
       "\n",
       "<style>\n",
       "  .colab-df-quickchart {\n",
       "    background-color: #E8F0FE;\n",
       "    border: none;\n",
       "    border-radius: 50%;\n",
       "    cursor: pointer;\n",
       "    display: none;\n",
       "    fill: #1967D2;\n",
       "    height: 32px;\n",
       "    padding: 0 0 0 0;\n",
       "    width: 32px;\n",
       "  }\n",
       "\n",
       "  .colab-df-quickchart:hover {\n",
       "    background-color: #E2EBFA;\n",
       "    box-shadow: 0px 1px 2px rgba(60, 64, 67, 0.3), 0px 1px 3px 1px rgba(60, 64, 67, 0.15);\n",
       "    fill: #174EA6;\n",
       "  }\n",
       "\n",
       "  [theme=dark] .colab-df-quickchart {\n",
       "    background-color: #3B4455;\n",
       "    fill: #D2E3FC;\n",
       "  }\n",
       "\n",
       "  [theme=dark] .colab-df-quickchart:hover {\n",
       "    background-color: #434B5C;\n",
       "    box-shadow: 0px 1px 3px 1px rgba(0, 0, 0, 0.15);\n",
       "    filter: drop-shadow(0px 1px 2px rgba(0, 0, 0, 0.3));\n",
       "    fill: #FFFFFF;\n",
       "  }\n",
       "</style>\n",
       "\n",
       "  <script>\n",
       "    async function quickchart(key) {\n",
       "      const charts = await google.colab.kernel.invokeFunction(\n",
       "          'suggestCharts', [key], {});\n",
       "    }\n",
       "    (() => {\n",
       "      let quickchartButtonEl =\n",
       "        document.querySelector('#df-599b6b76-24c7-4fcb-b9d8-0729cc86e300 button');\n",
       "      quickchartButtonEl.style.display =\n",
       "        google.colab.kernel.accessAllowed ? 'block' : 'none';\n",
       "    })();\n",
       "  </script>\n",
       "</div>\n",
       "    </div>\n",
       "  </div>\n"
      ],
      "text/plain": [
       "        data_dte   Year  Month  usg_apt_id  usg_apt  usg_wac  fg_apt_id  \\\n",
       "0          False  False  False       False    False    False      False   \n",
       "1          False  False  False       False    False    False      False   \n",
       "2          False  False  False       False    False    False      False   \n",
       "3          False  False  False       False    False    False      False   \n",
       "4          False  False  False       False    False    False      False   \n",
       "...          ...    ...    ...         ...      ...      ...        ...   \n",
       "421167     False  False  False       False    False    False      False   \n",
       "421168     False  False  False       False    False    False      False   \n",
       "421169     False  False  False       False    False    False      False   \n",
       "421170     False  False  False       False    False    False      False   \n",
       "421171     False  False  False       False     True     True       True   \n",
       "\n",
       "        fg_apt  fg_wac  airlineid  carrier  carriergroup   type  Scheduled  \\\n",
       "0        False   False      False    False         False  False      False   \n",
       "1        False   False      False    False         False  False      False   \n",
       "2        False   False      False    False         False  False      False   \n",
       "3        False   False      False    False         False  False      False   \n",
       "4        False   False      False    False         False  False      False   \n",
       "...        ...     ...        ...      ...           ...    ...        ...   \n",
       "421167   False   False      False    False         False  False      False   \n",
       "421168   False   False      False    False         False  False      False   \n",
       "421169   False   False      False    False         False  False      False   \n",
       "421170   False   False      False    False         False  False      False   \n",
       "421171    True    True       True     True          True   True       True   \n",
       "\n",
       "        Charter  Total  \n",
       "0         False  False  \n",
       "1         False  False  \n",
       "2         False  False  \n",
       "3         False  False  \n",
       "4         False  False  \n",
       "...         ...    ...  \n",
       "421167    False  False  \n",
       "421168    False  False  \n",
       "421169    False  False  \n",
       "421170    False  False  \n",
       "421171     True   True  \n",
       "\n",
       "[421172 rows x 16 columns]"
      ]
     },
     "execution_count": 118,
     "metadata": {},
     "output_type": "execute_result"
    }
   ],
   "source": [
    "df.isna()"
   ]
  },
  {
   "cell_type": "code",
   "execution_count": 119,
   "metadata": {
    "colab": {
     "base_uri": "https://localhost:8080/"
    },
    "id": "ok8GGxDB9eM1",
    "outputId": "7b5ffc69-f3f1-46dc-87f5-9682ec1d8c02"
   },
   "outputs": [
    {
     "data": {
      "text/plain": [
       "data_dte           0\n",
       "Year               0\n",
       "Month              0\n",
       "usg_apt_id         0\n",
       "usg_apt            1\n",
       "usg_wac            1\n",
       "fg_apt_id          1\n",
       "fg_apt             1\n",
       "fg_wac             1\n",
       "airlineid          1\n",
       "carrier         2525\n",
       "carriergroup       1\n",
       "type               1\n",
       "Scheduled          1\n",
       "Charter            1\n",
       "Total              1\n",
       "dtype: int64"
      ]
     },
     "execution_count": 119,
     "metadata": {},
     "output_type": "execute_result"
    }
   ],
   "source": [
    "nu=df.isna().sum()\n",
    "nu"
   ]
  },
  {
   "cell_type": "code",
   "execution_count": 120,
   "metadata": {
    "colab": {
     "base_uri": "https://localhost:8080/",
     "height": 935
    },
    "id": "z4paCZis9Y9F",
    "outputId": "75cdd632-757d-4d0b-d537-b133cc06c7ae"
   },
   "outputs": [
    {
     "data": {
      "image/png": "[encoded data removed]",
      "text/plain": [
       "<Figure size 1000x1000 with 1 Axes>"
      ]
     },
     "metadata": {},
     "output_type": "display_data"
    }
   ],
   "source": [
    "null_visual=nu.sort_values()/no\n",
    "null_visual=null_visual[null_visual !=0]\n",
    "null_visual\n",
    "cnt=null_visual.value_counts()\n",
    "plt.figure(figsize=(10, 10))\n",
    "plt.bar(null_visual.index, null_visual, color='purple')\n",
    "plt.title('Null Percentages by Column', fontsize=16)\n",
    "plt.xlabel('Column Name', fontsize=12)\n",
    "plt.ylabel('Null Percentage', fontsize=12)\n",
    "plt.grid(True)\n",
    "plt.xticks(rotation=45)\n",
    "plt.show()\n",
    "\n"
   ]
  },
  {
   "cell_type": "code",
   "execution_count": 120,
   "metadata": {
    "id": "CQm6P1be9eUN"
   },
   "outputs": [],
   "source": []
  },
  {
   "cell_type": "markdown",
   "metadata": {
    "id": "UZh8rjIM9flt"
   },
   "source": [
    "**NULL** **DROPPING**"
   ]
  },
  {
   "cell_type": "code",
   "execution_count": 121,
   "metadata": {
    "colab": {
     "base_uri": "https://localhost:8080/"
    },
    "id": "3ZzUkwbwkQ9M",
    "outputId": "78878ebb-8f4d-488c-8868-bae1d8200b30"
   },
   "outputs": [
    {
     "name": "stdout",
     "output_type": "stream",
     "text": [
      "to drop null values press x , press any other key to skip x\n",
      "Dropped\n"
     ]
    }
   ],
   "source": [
    "a=input(\"to drop null values press x , press any other key to skip \")\n",
    "if a==\"x\":\n",
    "  df=df.dropna()\n",
    "  print(\"Dropped\")\n",
    "elif a==\"y\":\n",
    "  pass\n"
   ]
  },
  {
   "cell_type": "code",
   "execution_count": 122,
   "metadata": {
    "colab": {
     "base_uri": "https://localhost:8080/"
    },
    "id": "O0YPLPGFku_1",
    "outputId": "d82659f6-e9ef-4792-fe69-6e332cf85bab"
   },
   "outputs": [
    {
     "data": {
      "text/plain": [
       "data_dte        0\n",
       "Year            0\n",
       "Month           0\n",
       "usg_apt_id      0\n",
       "usg_apt         0\n",
       "usg_wac         0\n",
       "fg_apt_id       0\n",
       "fg_apt          0\n",
       "fg_wac          0\n",
       "airlineid       0\n",
       "carrier         0\n",
       "carriergroup    0\n",
       "type            0\n",
       "Scheduled       0\n",
       "Charter         0\n",
       "Total           0\n",
       "dtype: int64"
      ]
     },
     "execution_count": 122,
     "metadata": {},
     "output_type": "execute_result"
    }
   ],
   "source": [
    "df.isna().sum()"
   ]
  },
  {
   "cell_type": "code",
   "execution_count": 122,
   "metadata": {
    "id": "vTN1blC38DCx"
   },
   "outputs": [],
   "source": []
  },
  {
   "cell_type": "markdown",
   "metadata": {
    "id": "AGiGnQTd8Evy"
   },
   "source": [
    "# **Column** **Drop**:"
   ]
  },
  {
   "cell_type": "code",
   "execution_count": 123,
   "metadata": {
    "colab": {
     "base_uri": "https://localhost:8080/"
    },
    "id": "t3TtqPIw8QQP",
    "outputId": "a1480b55-2586-4b06-ede7-957b21ac4374"
   },
   "outputs": [
    {
     "name": "stdout",
     "output_type": "stream",
     "text": [
      "Available columns\n"
     ]
    },
    {
     "data": {
      "text/plain": [
       "Index(['data_dte', 'Year', 'Month', 'usg_apt_id', 'usg_apt', 'usg_wac',\n",
       "       'fg_apt_id', 'fg_apt', 'fg_wac', 'airlineid', 'carrier', 'carriergroup',\n",
       "       'type', 'Scheduled', 'Charter', 'Total'],\n",
       "      dtype='object')"
      ]
     },
     "execution_count": 123,
     "metadata": {},
     "output_type": "execute_result"
    }
   ],
   "source": [
    "print(\"Available columns\")\n",
    "df.columns"
   ]
  },
  {
   "cell_type": "code",
   "execution_count": 124,
   "metadata": {
    "colab": {
     "base_uri": "https://localhost:8080/"
    },
    "id": "jOoeZT_h9_wE",
    "outputId": "5853f430-59fe-4694-fcaf-15a4e739c499"
   },
   "outputs": [
    {
     "name": "stdout",
     "output_type": "stream",
     "text": [
      "DO YOU WANT TO DROP A COLUMN.... IF YES WRITE ITS NAME FROM THE LIST above IF NO ENTER z Charter\n"
     ]
    }
   ],
   "source": [
    "DR=input(\"DO YOU WANT TO DROP A COLUMN.... IF YES WRITE ITS NAME FROM THE LIST above IF NO ENTER z \")"
   ]
  },
  {
   "cell_type": "code",
   "execution_count": 125,
   "metadata": {
    "colab": {
     "base_uri": "https://localhost:8080/"
    },
    "id": "0mfY1WLJ-W-p",
    "outputId": "41ca5f03-87a6-41ab-d006-3e99c3910e3b"
   },
   "outputs": [
    {
     "name": "stdout",
     "output_type": "stream",
     "text": [
      "column Charter is dropped successfully\n",
      "those are the current columns in the dataset after dropping Charter\n",
      "Index(['data_dte', 'Year', 'Month', 'usg_apt_id', 'usg_apt', 'usg_wac',\n",
      "       'fg_apt_id', 'fg_apt', 'fg_wac', 'airlineid', 'carrier', 'carriergroup',\n",
      "       'type', 'Scheduled', 'Total'],\n",
      "      dtype='object')\n"
     ]
    }
   ],
   "source": [
    "if DR in df.columns:\n",
    "  df=df.drop([DR],axis=1)\n",
    "  print(\"column \"+DR+\" is dropped successfully\")\n",
    "  print(\"those are the current columns in the dataset after dropping \"+DR)\n",
    "  print(df.columns)\n",
    "elif DR.lower()==\"z\":pass\n",
    "else:print(\"this column isnot available...check the spelling\")"
   ]
  },
  {
   "cell_type": "markdown",
   "metadata": {
    "id": "9AzP1WvuETkC"
   },
   "source": [
    "# **Bar chart**"
   ]
  },
  {
   "cell_type": "code",
   "execution_count": 126,
   "metadata": {
    "id": "aOPnQQ3jEi3o"
   },
   "outputs": [],
   "source": [
    "def bar_(df,s):\n",
    "\n",
    "    df2=df[s]\n",
    "    cnt=df2.value_counts()\n",
    "    plt.figure(figsize=(10,5))\n",
    "    plt.bar(cnt.index,cnt.values,color=\"purple\")\n",
    "    plt.title(\"Count of \"+s)\n",
    "    plt.xlabel(s)\n",
    "    plt.ylabel('Count')\n",
    "    plt.xticks(rotation=90)\n",
    "    plt.show()\n"
   ]
  },
  {
   "cell_type": "markdown",
   "metadata": {
    "id": "yKkTWd3uBVy2"
   },
   "source": [
    "# **PIE CHART**"
   ]
  },
  {
   "cell_type": "code",
   "execution_count": 127,
   "metadata": {
    "id": "GioUm8BDICos"
   },
   "outputs": [],
   "source": [
    "def pie_(df,s):\n",
    "\n",
    "    cnt=df[s].value_counts()\n",
    "    cnt.index.values.tolist()\n",
    "    plt.figure(figsize=(10,10))\n",
    "    plt.pie(cnt,labels=cnt.index.values.tolist(),rotatelabels=True)\n",
    "    plt.title(s+\" pie chart\")\n",
    "    plt.show()\n",
    "\n",
    "\n"
   ]
  },
  {
   "cell_type": "markdown",
   "metadata": {
    "id": "6i0siv7bBhLZ"
   },
   "source": [
    "# **HISTOGRAM**"
   ]
  },
  {
   "cell_type": "code",
   "execution_count": 128,
   "metadata": {
    "id": "Zlu3dpKybm1O"
   },
   "outputs": [],
   "source": [
    "def hist_(df,s):\n",
    "\n",
    "    plt.hist(df[s],bins=10,color=\"purple\",edgecolor=\"black\")\n",
    "    plt.grid(True)\n",
    "    plt.title(s+\" Histogram\")\n",
    "    plt.show()"
   ]
  },
  {
   "cell_type": "code",
   "execution_count": 129,
   "metadata": {
    "id": "skk7xvZXHHV-"
   },
   "outputs": [],
   "source": [
    "def hist_com(df,s):\n",
    "\n",
    "    plt.hist(df[s],bins=10,color=\"purple\",edgecolor=\"black\",cumulative=True)\n",
    "    plt.grid(True)\n",
    "    plt.title(s+\" CUMULATIVE Histogram\")\n",
    "    plt.show()"
   ]
  },
  {
   "cell_type": "markdown",
   "metadata": {
    "id": "QYvGARVlBlO2"
   },
   "source": [
    "# PLOTTING FUNCTION CALLS THE **BAR CHART,PIE CHART** PLOTTING_HIST FUNCTION CALLS THE **TWO HISTOGRAM FUNCTIONS** IN ORDER TO VISUALIZE DATA\n"
   ]
  },
  {
   "cell_type": "code",
   "execution_count": 130,
   "metadata": {
    "id": "68wos7qi_jTb"
   },
   "outputs": [],
   "source": [
    "def plotting_func(df):\n",
    "  print(\"COLUMN NAMES \")\n",
    "  print(df.columns)\n",
    "  s=input(\"Please enter the column you want to visualize\")\n",
    "  if s in df.columns:\n",
    "    bar_(df,s)\n",
    "    pie_(df,s)\n",
    "  else:print(\"NO such column exists\")"
   ]
  },
  {
   "cell_type": "code",
   "execution_count": 131,
   "metadata": {
    "id": "qVKE7LjqKJ9v"
   },
   "outputs": [],
   "source": [
    "def plotting_hist(df):\n",
    "  print(\"COLUMN NAMES \")\n",
    "  print(df.columns)\n",
    "  s=input(\"Please enter the column you want to visualize\")\n",
    "  if s in df.columns:\n",
    "    hist_(df,s)\n",
    "    hist_com(df,s)\n",
    "  else:print(\"NO such column exists\")\n"
   ]
  },
  {
   "cell_type": "code",
   "execution_count": 132,
   "metadata": {
    "colab": {
     "base_uri": "https://localhost:8080/",
     "height": 994
    },
    "id": "y1SBHXyWJ2gd",
    "outputId": "653dfbd7-2760-429d-f501-199d754d538f"
   },
   "outputs": [
    {
     "name": "stdout",
     "output_type": "stream",
     "text": [
      "COLUMN NAMES \n",
      "Index(['data_dte', 'Year', 'Month', 'usg_apt_id', 'usg_apt', 'usg_wac',\n",
      "       'fg_apt_id', 'fg_apt', 'fg_wac', 'airlineid', 'carrier', 'carriergroup',\n",
      "       'type', 'Scheduled', 'Total'],\n",
      "      dtype='object')\n",
      "Please enter the column you want to visualizeYear\n"
     ]
    },
    {
     "data": {
      "image/png": "[encoded data removed]",
      "text/plain": [
       "<Figure size 640x480 with 1 Axes>"
      ]
     },
     "metadata": {},
     "output_type": "display_data"
    },
    {
     "data": {
      "image/png": "[encoded data removed]",
      "text/plain": [
       "<Figure size 640x480 with 1 Axes>"
      ]
     },
     "metadata": {},
     "output_type": "display_data"
    }
   ],
   "source": [
    "plotting_hist(df)"
   ]
  },
  {
   "cell_type": "code",
   "execution_count": 133,
   "metadata": {
    "colab": {
     "base_uri": "https://localhost:8080/",
     "height": 1000
    },
    "id": "xrf_bCEzK1-Z",
    "outputId": "d2e2d862-2b4b-4664-e074-2c27afb36ff9"
   },
   "outputs": [
    {
     "name": "stdout",
     "output_type": "stream",
     "text": [
      "COLUMN NAMES \n",
      "Index(['data_dte', 'Year', 'Month', 'usg_apt_id', 'usg_apt', 'usg_wac',\n",
      "       'fg_apt_id', 'fg_apt', 'fg_wac', 'airlineid', 'carrier', 'carriergroup',\n",
      "       'type', 'Scheduled', 'Total'],\n",
      "      dtype='object')\n",
      "Please enter the column you want to visualizeYear\n"
     ]
    },
    {
     "data": {
      "image/png": "[encoded data removed]",
      "text/plain": [
       "<Figure size 1000x500 with 1 Axes>"
      ]
     },
     "metadata": {},
     "output_type": "display_data"
    },
    {
     "data": {
      "image/png": "[encoded data removed]",
      "text/plain": [
       "<Figure size 1000x1000 with 1 Axes>"
      ]
     },
     "metadata": {},
     "output_type": "display_data"
    }
   ],
   "source": [
    "plotting_func(df)"
   ]
  }
 ],
 "metadata": {
  "colab": {
   "provenance": []
  },
  "kernelspec": {
   "display_name": "Python 3 (ipykernel)",
   "language": "python",
   "name": "python3"
  },
  "language_info": {
   "codemirror_mode": {
    "name": "ipython",
    "version": 3
   },
   "file_extension": ".py",
   "mimetype": "text/x-python",
   "name": "python",
   "nbconvert_exporter": "python",
   "pygments_lexer": "ipython3",
   "version": "3.11.4"
  }
 },
 "nbformat": 4,
 "nbformat_minor": 1
}
